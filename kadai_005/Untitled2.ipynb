{
  "nbformat": 4,
  "nbformat_minor": 0,
  "metadata": {
    "colab": {
      "provenance": []
    },
    "kernelspec": {
      "name": "python3",
      "display_name": "Python 3"
    },
    "language_info": {
      "name": "python"
    }
  },
  "cells": [
    {
      "cell_type": "code",
      "execution_count": 3,
      "metadata": {
        "colab": {
          "base_uri": "https://localhost:8080/"
        },
        "id": "XxKLfteJGKEc",
        "outputId": "fd5fcbdd-2de8-4993-b575-e49f829bc3fc"
      },
      "outputs": [
        {
          "output_type": "stream",
          "name": "stdout",
          "text": [
            "75.0cm2\n"
          ]
        }
      ],
      "source": [
        "top=10\n",
        "bottom=20\n",
        "height=5\n",
        "\n",
        "area=(top+bottom)*height/2\n",
        "\n",
        "print(str(area)+\"cm2\")"
      ]
    },
    {
      "cell_type": "code",
      "source": [],
      "metadata": {
        "id": "CQmlP3ZPHt_Q"
      },
      "execution_count": null,
      "outputs": []
    }
  ]
}