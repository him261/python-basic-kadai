{
  "nbformat": 4,
  "nbformat_minor": 0,
  "metadata": {
    "colab": {
      "provenance": []
    },
    "kernelspec": {
      "name": "python3",
      "display_name": "Python 3"
    },
    "language_info": {
      "name": "python"
    }
  },
  "cells": [
    {
      "cell_type": "code",
      "execution_count": 5,
      "metadata": {
        "colab": {
          "base_uri": "https://localhost:8080/"
        },
        "id": "XxKLfteJGKEc",
        "outputId": "4a2462fb-39e1-4699-9eec-83f09105917d"
      },
      "outputs": [
        {
          "output_type": "stream",
          "name": "stdout",
          "text": [
            "75.0㎠\n"
          ]
        }
      ],
      "source": [
        "top=10\n",
        "bottom=20\n",
        "height=5\n",
        "\n",
        "area=(top+bottom)*height/2\n",
        "\n",
        "print(str(area)+\"㎠\")"
      ]
    },
    {
      "cell_type": "code",
      "source": [],
      "metadata": {
        "id": "CQmlP3ZPHt_Q"
      },
      "execution_count": null,
      "outputs": []
    }
  ]
}