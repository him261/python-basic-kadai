{
  "nbformat": 4,
  "nbformat_minor": 0,
  "metadata": {
    "colab": {
      "provenance": []
    },
    "kernelspec": {
      "name": "python3",
      "display_name": "Python 3"
    },
    "language_info": {
      "name": "python"
    }
  },
  "cells": [
    {
      "cell_type": "code",
      "execution_count": 9,
      "metadata": {
        "colab": {
          "base_uri": "https://localhost:8080/"
        },
        "id": "OzK8E1NNw2kj",
        "outputId": "2004bdef-0e75-4dbc-b97c-976f9909bb4a"
      },
      "outputs": [
        {
          "output_type": "stream",
          "name": "stdout",
          "text": [
            "Fizz\n"
          ]
        }
      ],
      "source": [
        "import random\n",
        "\n",
        "var = random.randint(1,100)\n",
        "\n",
        "if var % 3 ==0 and var % 5==0:\n",
        "  print(\"FizzBuzz\")\n",
        "elif var % 3 ==0:\n",
        "  print(\"Fizz\")\n",
        "elif var % 5 ==0:\n",
        "  print(\"Buzz\")\n",
        "else:\n",
        "  print(var)"
      ]
    },
    {
      "cell_type": "code",
      "source": [],
      "metadata": {
        "id": "n9rsURl60Ze3"
      },
      "execution_count": 4,
      "outputs": []
    }
  ]
}