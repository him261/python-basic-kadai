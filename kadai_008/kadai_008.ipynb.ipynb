{
  "nbformat": 4,
  "nbformat_minor": 0,
  "metadata": {
    "colab": {
      "provenance": []
    },
    "kernelspec": {
      "name": "python3",
      "display_name": "Python 3"
    },
    "language_info": {
      "name": "python"
    }
  },
  "cells": [
    {
      "cell_type": "code",
      "execution_count": 8,
      "metadata": {
        "colab": {
          "base_uri": "https://localhost:8080/"
        },
        "id": "OzK8E1NNw2kj",
        "outputId": "496d6f71-e437-449d-abb2-495ce173e8e6"
      },
      "outputs": [
        {
          "output_type": "stream",
          "name": "stdout",
          "text": [
            "7\n"
          ]
        }
      ],
      "source": [
        "import random\n",
        "\n",
        "var = random.randint(1,100)\n",
        "\n",
        "if var % 3 ==0 and var % 5==0:\n",
        "  print(\"FizzBuzz\")\n",
        "elif var % 3 ==0:\n",
        "  print(\"Fizz\")\n",
        "elif var % 3 ==0:\n",
        "  print(\"Buzz\")\n",
        "else:\n",
        "  print(var)"
      ]
    },
    {
      "cell_type": "code",
      "source": [],
      "metadata": {
        "id": "n9rsURl60Ze3"
      },
      "execution_count": 4,
      "outputs": []
    }
  ]
}