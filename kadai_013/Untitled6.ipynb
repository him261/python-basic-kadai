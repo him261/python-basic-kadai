{
  "nbformat": 4,
  "nbformat_minor": 0,
  "metadata": {
    "colab": {
      "provenance": []
    },
    "kernelspec": {
      "name": "python3",
      "display_name": "Python 3"
    },
    "language_info": {
      "name": "python"
    }
  },
  "cells": [
    {
      "cell_type": "code",
      "execution_count": 2,
      "metadata": {
        "colab": {
          "base_uri": "https://localhost:8080/"
        },
        "id": "hK68xRUH-LDP",
        "outputId": "602a4447-0c41-401a-c0ec-c211e6a67bf4"
      },
      "outputs": [
        {
          "output_type": "stream",
          "name": "stdout",
          "text": [
            "税込み金額は121.00000000000001です\n"
          ]
        }
      ],
      "source": [
        "def calculate_tax(price,tax_rate):\n",
        "  total=price*(1+tax_rate/100)\n",
        "  return total\n",
        "\n",
        "result= calculate_tax(110,10)\n",
        "\n",
        "print(f\"税込み金額は{result}です\")"
      ]
    },
    {
      "cell_type": "code",
      "source": [],
      "metadata": {
        "id": "mEN5H9hsAJhM"
      },
      "execution_count": null,
      "outputs": []
    }
  ]
}