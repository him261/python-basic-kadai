{
  "nbformat": 4,
  "nbformat_minor": 0,
  "metadata": {
    "colab": {
      "provenance": []
    },
    "kernelspec": {
      "name": "python3",
      "display_name": "Python 3"
    },
    "language_info": {
      "name": "python"
    }
  },
  "cells": [
    {
      "cell_type": "code",
      "execution_count": 4,
      "metadata": {
        "colab": {
          "base_uri": "https://localhost:8080/"
        },
        "id": "-r8ZAPjP8gXZ",
        "outputId": "687c3da1-72ff-4410-aa4d-78b900127469"
      },
      "outputs": [
        {
          "output_type": "stream",
          "name": "stdout",
          "text": [
            "名前: 侍太郎\n",
            "名前: 36\n"
          ]
        }
      ],
      "source": [
        "class Human:\n",
        "  def __init__(self,name,age):\n",
        "    self.name=name\n",
        "    self.age=age\n",
        "\n",
        "  def printinfo(self):\n",
        "    print(\"名前:\",self.name)\n",
        "    print(\"名前:\",self.age)\n",
        "\n",
        "person=Human(\"侍太郎\",36)\n",
        "\n",
        "person.printinfo()"
      ]
    },
    {
      "cell_type": "code",
      "source": [],
      "metadata": {
        "id": "2GlPqUoA88dq"
      },
      "execution_count": null,
      "outputs": []
    }
  ]
}