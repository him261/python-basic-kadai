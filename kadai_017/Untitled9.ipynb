{
  "nbformat": 4,
  "nbformat_minor": 0,
  "metadata": {
    "colab": {
      "provenance": []
    },
    "kernelspec": {
      "name": "python3",
      "display_name": "Python 3"
    },
    "language_info": {
      "name": "python"
    }
  },
  "cells": [
    {
      "cell_type": "code",
      "source": [
        "class Human:\n",
        "  def __init__(self,name,age):\n",
        "     self.name= name\n",
        "     self.age= age\n",
        "\n",
        "  def check_adult(self):\n",
        "\n",
        "    if self.age >=20:\n",
        "      print(f\"{self.name}さんは大人です。\")\n",
        "    else:\n",
        "      print(f\"{self.name}さんは大人ではありません。\")\n",
        "\n",
        "people = [\n",
        "    Human(\"侍太郎\",36),\n",
        "    Human(\"侍花子\",18),\n",
        "    Human(\"侍一郎\",25)\n",
        "]\n",
        "\n",
        "for person in people:\n",
        "    person.check_adult()"
      ],
      "metadata": {
        "id": "xre8uk6qlL9V",
        "colab": {
          "base_uri": "https://localhost:8080/"
        },
        "outputId": "18e608d2-6a60-45c3-8541-ab626e20f184"
      },
      "execution_count": 5,
      "outputs": [
        {
          "output_type": "stream",
          "name": "stdout",
          "text": [
            "侍太郎さんは大人です。\n",
            "侍花子さんは大人ではありません。\n",
            "侍一郎さんは大人です。\n"
          ]
        }
      ]
    },
    {
      "cell_type": "code",
      "source": [],
      "metadata": {
        "id": "dDZexY3I_-Z1"
      },
      "execution_count": null,
      "outputs": []
    }
  ]
}